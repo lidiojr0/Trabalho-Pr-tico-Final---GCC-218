{
 "cells": [
  {
   "cell_type": "code",
   "execution_count": null,
   "id": "09ad54cc",
   "metadata": {},
   "outputs": [
    {
     "name": "stdout",
     "output_type": "stream",
     "text": [
      "         Nome do Grafo  Quantidade de Vertices Requeridos  Quantidade de Arestas Requeridas  Quantidade de Arcos Requeridos Densidade do Grafo  Grau Minimo dos Vertices  Grau Maximo dos Vertices Diametro do Grafo Caminho Medio do Grafo Intermediacao dos Vertices\n",
      "              BHW1.dat                                  7                                11                              11               0.17                         0                         3             79.00                  36.04                       2.05\n",
      "              BHW2.dat                                  4                                 0                              25               0.00                         0                         0              0.00                   0.00                       0.00\n",
      "              BHW3.dat                                  5                                 8                               7               0.10                         0                         2             56.00                  20.71                       0.57\n",
      "              BHW4.dat                                  6                                 0                              44               0.00                         0                         0              0.00                   0.00                       0.00\n",
      "              BHW5.dat                                 30                                 0                             132               0.00                         0                         0              0.00                   0.00                       0.00\n",
      "              BHW6.dat                                 15                                37                              58               0.05                         0                         4             31.00                  11.42                       1.83\n",
      "              BHW7.dat                                 35                                 0                             194               0.00                         0                         0              0.00                   0.00                       0.00\n",
      "              BHW8.dat                                 20                                 0                              97               0.00                         0                         0              0.00                   0.00                       0.00\n",
      "              BHW9.dat                                 10                                26                             142               0.02                         0                         5             19.00                   7.14                       2.24\n",
      "             BHW10.dat                                 40                                 0                             102               0.00                         0                         0              0.00                   0.00                       0.00\n",
      "           CBMix11.dat                                 65                                 6                              11               0.00                         0                         1             48.00                  22.33                       0.00\n",
      "           CBMix12.dat                                  1                                 0                              52               0.00                         0                         0              0.00                   0.00                       0.00\n",
      "           CBMix13.dat                                 79                                 2                              60               0.00                         0                         1             18.00                  17.00                       0.00\n",
      "           CBMix14.dat                                 93                                 0                               0               0.00                         0                         0              0.00                   0.00                       0.00\n",
      "           CBMix15.dat                                  0                                91                               0               0.07                         2                         6            391.00                 152.27                       4.13\n",
      "           CBMix16.dat                                 36                                 0                             133               0.00                         0                         0              0.00                   0.00                       0.00\n",
      "           CBMix17.dat                                 16                                16                              31               0.02                         0                         2            153.00                  57.96                       0.52\n",
      "           CBMix18.dat                                 39                                 0                              88               0.00                         0                         0              0.00                   0.00                       0.00\n",
      "           CBMix19.dat                                 61                                 9                             142               0.00                         0                         2             39.00                  22.90                       0.10\n",
      "           CBMix20.dat                                 38                                 2                              33               0.00                         0                         1             39.00                  29.00                       0.00\n",
      " DI-NEARP-n240-Q2k.dat                                120                               120                               0               0.00                         0                         4            415.00                  86.54                       0.74\n",
      " DI-NEARP-n240-Q4k.dat                                120                               120                               0               0.00                         0                         4            415.00                  86.54                       0.74\n",
      " DI-NEARP-n240-Q8k.dat                                120                               120                               0               0.00                         0                         4            415.00                  86.54                       0.74\n",
      "DI-NEARP-n240-Q16k.dat                                120                               120                               0               0.00                         0                         4            415.00                  86.54                       0.74\n",
      " DI-NEARP-n422-Q2k.dat                                302                               120                               0               0.00                         0                         4            201.00                  54.43                       0.51\n",
      " DI-NEARP-n422-Q4k.dat                                302                               120                               0               0.00                         0                         4            201.00                  54.43                       0.51\n",
      " DI-NEARP-n422-Q8k.dat                                302                               120                               0               0.00                         0                         4            201.00                  54.43                       0.51\n",
      "DI-NEARP-n422-Q16k.dat                                302                               120                               0               0.00                         0                         4            201.00                  54.43                       0.51\n",
      " DI-NEARP-n442-Q2k.dat                                294                               148                               0               0.00                         0                         4            336.00                  52.96                       1.54\n",
      " DI-NEARP-n442-Q4k.dat                                294                               148                               0               0.00                         0                         4            336.00                  52.96                       1.54\n",
      "      mggdb_0.25_1.dat                                  6                                 3                              12               0.05                         0                         1             17.00                   8.33                       0.00\n",
      "      mggdb_0.25_2.dat                                  6                                 4                              15               0.06                         0                         2             25.00                  14.60                       0.20\n",
      "      mggdb_0.25_3.dat                                  7                                 3                              12               0.05                         0                         1             20.00                  16.33                       0.00\n",
      "      mggdb_0.25_4.dat                                  4                                 3                              11               0.05                         0                         2             27.00                  18.25                       0.25\n",
      "      mggdb_0.25_5.dat                                  5                                 4                              15               0.05                         0                         2             35.00                  17.29                       0.57\n",
      "      mggdb_0.25_6.dat                                  6                                 3                              12               0.05                         0                         2             37.00                  21.25                       0.25\n",
      "      mggdb_0.25_7.dat                                  5                                 3                              12               0.05                         0                         1             16.00                  11.00                       0.00\n",
      "      mggdb_0.25_8.dat                                 11                                 8                              26               0.02                         0                         4             15.00                   7.47                       0.47\n",
      "      mggdb_0.25_9.dat                                  9                                 9                              29               0.03                         0                         3             17.00                   9.19                       0.50\n",
      "     mggdb_0.25_10.dat                                  4                                 4                              14               0.06                         0                         2             16.00                   8.80                       0.20\n",
      "     mgval_0.50_8B.dat                                 23                                13                              32               0.03                         0                         2             19.00                   8.48                       0.48\n",
      "     mgval_0.50_8C.dat                                 22                                14                              27               0.03                         0                         3             28.00                  12.00                       1.03\n",
      "     mgval_0.50_9A.dat                                 39                                16                              50               0.01                         0                         3             22.00                   8.36                       1.28\n",
      "     mgval_0.50_9B.dat                                 37                                22                              38               0.02                         0                         3             17.00                   6.29                       0.79\n",
      "     mgval_0.50_9C.dat                                 38                                21                              41               0.02                         0                         3             14.00                   5.75                       0.65\n",
      "     mgval_0.50_9D.dat                                 38                                19                              46               0.02                         0                         3             13.00                   4.70                       0.50\n",
      "    mgval_0.50_10A.dat                                 40                                16                              53               0.01                         0                         2             13.00                   5.30                       0.35\n",
      "    mgval_0.50_10B.dat                                 44                                16                              50               0.01                         0                         3             10.00                   4.96                       0.50\n",
      "    mgval_0.50_10C.dat                                 40                                18                              50               0.01                         0                         3             33.00                  11.15                       1.60\n",
      "    mgval_0.50_10D.dat                                 46                                21                              43               0.02                         0                         3             16.00                   6.88                       1.02\n"
     ]
    }
   ],
   "source": [
    "import pandas as pd\n",
    "\n",
    "df = pd.read_csv('metricas_grafos.csv')\n",
    "\n",
    "df['Densidade do Grafo'] = df['Densidade do Grafo'].apply(lambda x: f'{x:.2f}')\n",
    "df['Diametro do Grafo'] = df['Diametro do Grafo'].apply(lambda x: f'{x:.2f}')\n",
    "df['Caminho Medio do Grafo'] = df['Caminho Medio do Grafo'].apply(lambda x: f'{x:.2f}')\n",
    "df['Intermediacao dos Vertices'] = df['Intermediacao dos Vertices'].apply(lambda x: f'{x:.2f}')\n",
    "\n",
    "print(df.to_string(index=False))\n"
   ]
  }
 ],
 "metadata": {
  "kernelspec": {
   "display_name": "Python 3",
   "language": "python",
   "name": "python3"
  },
  "language_info": {
   "codemirror_mode": {
    "name": "ipython",
    "version": 3
   },
   "file_extension": ".py",
   "mimetype": "text/x-python",
   "name": "python",
   "nbconvert_exporter": "python",
   "pygments_lexer": "ipython3",
   "version": "3.11.9"
  }
 },
 "nbformat": 4,
 "nbformat_minor": 5
}
